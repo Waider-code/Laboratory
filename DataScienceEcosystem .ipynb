{
 "cells": [
  {
   "cell_type": "markdown",
   "id": "716a3f4d",
   "metadata": {},
   "source": [
    "# Data Science Tools and Ecosystem "
   ]
  },
  {
   "cell_type": "markdown",
   "id": "65435fc1",
   "metadata": {},
   "source": [
    "#### __In this notebook, Data Science Tools and Ecosystem are summarized__"
   ]
  },
  {
   "cell_type": "markdown",
   "id": "131111dc",
   "metadata": {},
   "source": [
    "**Objectives**:\n",
    "+ List of popular languages for Data Science\n",
    "+ List of Commonly used libraries used by Data Scientists\n",
    "+ List of Data Scients Tools\n",
    "+ Examples of arithmetics expressions"
   ]
  },
  {
   "cell_type": "markdown",
   "id": "475bdf1c",
   "metadata": {},
   "source": [
    "### Some of the popular languages that Data Science use are:\n",
    "1. Python\n",
    "2. R\n",
    "3. SQL\n",
    "4. JAVA\n",
    "5. Scala and _others_"
   ]
  },
  {
   "cell_type": "markdown",
   "id": "c2c6383c",
   "metadata": {},
   "source": [
    "### Some of the commonly used libraries used by Data Scientists include:\n",
    "1. Pandas\n",
    "2. Matplatlib\n",
    "3. Seaborn\n",
    "4. ggplot2\n",
    "5. Vegas and _others_"
   ]
  },
  {
   "attachments": {},
   "cell_type": "markdown",
   "id": "e2519762",
   "metadata": {},
   "source": [
    "### Data Science Tools\n",
    "|Data Science Tools|\n",
    "|-----|\n",
    "|Jupityer|\n",
    "|R Studio|\n",
    "|MySQL|"
   ]
  },
  {
   "cell_type": "markdown",
   "id": "7e065dcc",
   "metadata": {},
   "source": [
    "### Below are a few examples of evaluating arithmetic expressions in Python"
   ]
  },
  {
   "cell_type": "code",
   "execution_count": 3,
   "id": "ad92585d",
   "metadata": {},
   "outputs": [
    {
     "data": {
      "text/plain": [
       "26"
      ]
     },
     "execution_count": 3,
     "metadata": {},
     "output_type": "execute_result"
    }
   ],
   "source": [
    "# This a simple ticky arithmetic expression firstly need to multiply then add integers\n",
    "2+8*3"
   ]
  },
  {
   "cell_type": "code",
   "execution_count": 4,
   "id": "7887712e",
   "metadata": {},
   "outputs": [
    {
     "name": "stdout",
     "output_type": "stream",
     "text": [
      "3.3333333333333335\n"
     ]
    }
   ],
   "source": [
    "# This will convert 200 minutes to hours by diving by 60\n",
    "total_min=200\n",
    "min=total_min%60\n",
    "hrs=(total_min)/60\n",
    "print (hrs)"
   ]
  },
  {
   "cell_type": "markdown",
   "id": "bdab8014",
   "metadata": {},
   "source": [
    "## Author\n",
    "Jevgenijs Ivanovskis"
   ]
  },
  {
   "cell_type": "code",
   "execution_count": null,
   "id": "d7274ec5",
   "metadata": {},
   "outputs": [],
   "source": []
  }
 ],
 "metadata": {
  "kernelspec": {
   "display_name": "Python 3 (ipykernel)",
   "language": "python",
   "name": "python3"
  },
  "language_info": {
   "codemirror_mode": {
    "name": "ipython",
    "version": 3
   },
   "file_extension": ".py",
   "mimetype": "text/x-python",
   "name": "python",
   "nbconvert_exporter": "python",
   "pygments_lexer": "ipython3",
   "version": "3.10.11"
  }
 },
 "nbformat": 4,
 "nbformat_minor": 5
}
